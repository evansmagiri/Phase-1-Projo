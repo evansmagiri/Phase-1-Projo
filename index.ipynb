{
 "cells": [
  {
   "cell_type": "markdown",
   "id": "c4982beb",
   "metadata": {},
   "source": [
    "# Phase 1 Project: Aviation Risk Analysis\n",
    "\n",
    "This notebook cleans and analyzes aviation accident data (1962-2023) to identify low-risk aircraft for a new business division. The goal is to provide three actionable recommendations based on cleaned data."
   ]
  },
  {
   "cell_type": "code",
   "execution_count": 167,
   "id": "2ecb71dd",
   "metadata": {},
   "outputs": [],
   "source": [
    "import pandas as pd\n",
    "import numpy as np"
   ]
  },
  {
   "cell_type": "code",
   "execution_count": 168,
   "id": "04a55eaf",
   "metadata": {},
   "outputs": [],
   "source": [
    "# Loading csv data now. I won't use index_col=0 for now\n",
    "df = pd.read_csv('Data/aviation-accident-data-2023-05-16.csv')\n",
    " "
   ]
  },
  {
   "cell_type": "markdown",
   "id": "1cfd563d",
   "metadata": {},
   "source": [
    "## Exploratory Data Analysis and Initial Cleaning\n",
    "\n",
    "This step explores the loaded data to identify missing values, duplicates, and data types. Checking it's structure so that I can know what to clean you know..."
   ]
  },
  {
   "cell_type": "code",
   "execution_count": 169,
   "id": "ae92aed2",
   "metadata": {},
   "outputs": [
    {
     "data": {
      "text/html": [
       "<div>\n",
       "<style scoped>\n",
       "    .dataframe tbody tr th:only-of-type {\n",
       "        vertical-align: middle;\n",
       "    }\n",
       "\n",
       "    .dataframe tbody tr th {\n",
       "        vertical-align: top;\n",
       "    }\n",
       "\n",
       "    .dataframe thead th {\n",
       "        text-align: right;\n",
       "    }\n",
       "</style>\n",
       "<table border=\"1\" class=\"dataframe\">\n",
       "  <thead>\n",
       "    <tr style=\"text-align: right;\">\n",
       "      <th></th>\n",
       "      <th>date</th>\n",
       "      <th>type</th>\n",
       "      <th>registration</th>\n",
       "      <th>operator</th>\n",
       "      <th>fatalities</th>\n",
       "      <th>location</th>\n",
       "      <th>country</th>\n",
       "      <th>cat</th>\n",
       "      <th>year</th>\n",
       "    </tr>\n",
       "  </thead>\n",
       "  <tbody>\n",
       "    <tr>\n",
       "      <th>0</th>\n",
       "      <td>date unk.</td>\n",
       "      <td>Antonov An-12B</td>\n",
       "      <td>T-1206</td>\n",
       "      <td>Indonesian AF</td>\n",
       "      <td>NaN</td>\n",
       "      <td>NaN</td>\n",
       "      <td>Unknown country</td>\n",
       "      <td>U1</td>\n",
       "      <td>unknown</td>\n",
       "    </tr>\n",
       "    <tr>\n",
       "      <th>1</th>\n",
       "      <td>date unk.</td>\n",
       "      <td>Antonov An-12B</td>\n",
       "      <td>T-1204</td>\n",
       "      <td>Indonesian AF</td>\n",
       "      <td>NaN</td>\n",
       "      <td>NaN</td>\n",
       "      <td>Unknown country</td>\n",
       "      <td>U1</td>\n",
       "      <td>unknown</td>\n",
       "    </tr>\n",
       "    <tr>\n",
       "      <th>2</th>\n",
       "      <td>date unk.</td>\n",
       "      <td>Antonov An-12B</td>\n",
       "      <td>T-1201</td>\n",
       "      <td>Indonesian AF</td>\n",
       "      <td>NaN</td>\n",
       "      <td>NaN</td>\n",
       "      <td>Unknown country</td>\n",
       "      <td>U1</td>\n",
       "      <td>unknown</td>\n",
       "    </tr>\n",
       "    <tr>\n",
       "      <th>3</th>\n",
       "      <td>date unk.</td>\n",
       "      <td>Antonov An-12BK</td>\n",
       "      <td>NaN</td>\n",
       "      <td>Soviet AF</td>\n",
       "      <td>NaN</td>\n",
       "      <td>Tiksi Airport (IKS)</td>\n",
       "      <td>Russia</td>\n",
       "      <td>A1</td>\n",
       "      <td>unknown</td>\n",
       "    </tr>\n",
       "    <tr>\n",
       "      <th>4</th>\n",
       "      <td>date unk.</td>\n",
       "      <td>Antonov An-12BP</td>\n",
       "      <td>CCCP-11815</td>\n",
       "      <td>Soviet AF</td>\n",
       "      <td>0</td>\n",
       "      <td>Massawa Airport ...</td>\n",
       "      <td>Eritrea</td>\n",
       "      <td>A1</td>\n",
       "      <td>unknown</td>\n",
       "    </tr>\n",
       "  </tbody>\n",
       "</table>\n",
       "</div>"
      ],
      "text/plain": [
       "        date             type registration       operator fatalities  \\\n",
       "0  date unk.   Antonov An-12B       T-1206  Indonesian AF        NaN   \n",
       "1  date unk.   Antonov An-12B       T-1204  Indonesian AF        NaN   \n",
       "2  date unk.   Antonov An-12B       T-1201  Indonesian AF        NaN   \n",
       "3  date unk.  Antonov An-12BK          NaN      Soviet AF        NaN   \n",
       "4  date unk.  Antonov An-12BP   CCCP-11815      Soviet AF          0   \n",
       "\n",
       "              location          country cat     year  \n",
       "0                  NaN  Unknown country  U1  unknown  \n",
       "1                  NaN  Unknown country  U1  unknown  \n",
       "2                  NaN  Unknown country  U1  unknown  \n",
       "3  Tiksi Airport (IKS)           Russia  A1  unknown  \n",
       "4  Massawa Airport ...          Eritrea  A1  unknown  "
      ]
     },
     "execution_count": 169,
     "metadata": {},
     "output_type": "execute_result"
    }
   ],
   "source": [
    "# Checking the structure of rows, columns etc\n",
    "df.head()"
   ]
  },
  {
   "cell_type": "code",
   "execution_count": 170,
   "id": "ea17c760",
   "metadata": {},
   "outputs": [
    {
     "data": {
      "text/html": [
       "<div>\n",
       "<style scoped>\n",
       "    .dataframe tbody tr th:only-of-type {\n",
       "        vertical-align: middle;\n",
       "    }\n",
       "\n",
       "    .dataframe tbody tr th {\n",
       "        vertical-align: top;\n",
       "    }\n",
       "\n",
       "    .dataframe thead th {\n",
       "        text-align: right;\n",
       "    }\n",
       "</style>\n",
       "<table border=\"1\" class=\"dataframe\">\n",
       "  <thead>\n",
       "    <tr style=\"text-align: right;\">\n",
       "      <th></th>\n",
       "      <th>date</th>\n",
       "      <th>type</th>\n",
       "      <th>registration</th>\n",
       "      <th>operator</th>\n",
       "      <th>fatalities</th>\n",
       "      <th>location</th>\n",
       "      <th>country</th>\n",
       "      <th>cat</th>\n",
       "      <th>year</th>\n",
       "    </tr>\n",
       "  </thead>\n",
       "  <tbody>\n",
       "    <tr>\n",
       "      <th>23962</th>\n",
       "      <td>11-MAY-2023</td>\n",
       "      <td>Hawker 900XP</td>\n",
       "      <td>PK-LRU</td>\n",
       "      <td>Angkasa Super Services</td>\n",
       "      <td>0</td>\n",
       "      <td>Maleo Airport (MOH)</td>\n",
       "      <td>Indonesia</td>\n",
       "      <td>A2</td>\n",
       "      <td>2023</td>\n",
       "    </tr>\n",
       "    <tr>\n",
       "      <th>23963</th>\n",
       "      <td>11-MAY-2023</td>\n",
       "      <td>Cessna 208B Grand Caravan</td>\n",
       "      <td>PK-NGA</td>\n",
       "      <td>Nasional Global Aviasi</td>\n",
       "      <td>0</td>\n",
       "      <td>Fentheik Airstrip</td>\n",
       "      <td>Indonesia</td>\n",
       "      <td>A2</td>\n",
       "      <td>2023</td>\n",
       "    </tr>\n",
       "    <tr>\n",
       "      <th>23964</th>\n",
       "      <td>12-MAY-2023</td>\n",
       "      <td>Cessna 208B Grand Caravan</td>\n",
       "      <td>5X-RBR</td>\n",
       "      <td>Bar Aviation</td>\n",
       "      <td>0</td>\n",
       "      <td>Kampala-Kajjansi...</td>\n",
       "      <td>Uganda</td>\n",
       "      <td>A1</td>\n",
       "      <td>2023</td>\n",
       "    </tr>\n",
       "    <tr>\n",
       "      <th>23965</th>\n",
       "      <td>14-MAY-2023</td>\n",
       "      <td>Boeing 747-4R7F</td>\n",
       "      <td>LX-OCV</td>\n",
       "      <td>Cargolux</td>\n",
       "      <td>0</td>\n",
       "      <td>Luxembourg-Finde...</td>\n",
       "      <td>Luxembourg</td>\n",
       "      <td>A2</td>\n",
       "      <td>2023</td>\n",
       "    </tr>\n",
       "    <tr>\n",
       "      <th>23966</th>\n",
       "      <td>15-MAY-2023</td>\n",
       "      <td>Learjet 35A</td>\n",
       "      <td>D-CGFQ</td>\n",
       "      <td>GFD</td>\n",
       "      <td>2</td>\n",
       "      <td>Hohn Air Base</td>\n",
       "      <td>Germany</td>\n",
       "      <td>A1</td>\n",
       "      <td>2023</td>\n",
       "    </tr>\n",
       "  </tbody>\n",
       "</table>\n",
       "</div>"
      ],
      "text/plain": [
       "              date                       type registration  \\\n",
       "23962  11-MAY-2023               Hawker 900XP       PK-LRU   \n",
       "23963  11-MAY-2023  Cessna 208B Grand Caravan       PK-NGA   \n",
       "23964  12-MAY-2023  Cessna 208B Grand Caravan       5X-RBR   \n",
       "23965  14-MAY-2023            Boeing 747-4R7F       LX-OCV   \n",
       "23966  15-MAY-2023                Learjet 35A       D-CGFQ   \n",
       "\n",
       "                     operator fatalities             location     country cat  \\\n",
       "23962  Angkasa Super Services          0  Maleo Airport (MOH)   Indonesia  A2   \n",
       "23963  Nasional Global Aviasi          0    Fentheik Airstrip   Indonesia  A2   \n",
       "23964            Bar Aviation          0  Kampala-Kajjansi...      Uganda  A1   \n",
       "23965                Cargolux          0  Luxembourg-Finde...  Luxembourg  A2   \n",
       "23966                     GFD          2        Hohn Air Base     Germany  A1   \n",
       "\n",
       "       year  \n",
       "23962  2023  \n",
       "23963  2023  \n",
       "23964  2023  \n",
       "23965  2023  \n",
       "23966  2023  "
      ]
     },
     "execution_count": 170,
     "metadata": {},
     "output_type": "execute_result"
    }
   ],
   "source": [
    "# Just to compare with cleaned data at the end\n",
    "df.tail()"
   ]
  },
  {
   "cell_type": "code",
   "execution_count": 171,
   "id": "9abf4cab",
   "metadata": {},
   "outputs": [
    {
     "name": "stdout",
     "output_type": "stream",
     "text": [
      "<class 'pandas.core.frame.DataFrame'>\n",
      "RangeIndex: 23967 entries, 0 to 23966\n",
      "Data columns (total 9 columns):\n",
      " #   Column        Non-Null Count  Dtype \n",
      "---  ------        --------------  ----- \n",
      " 0   date          23967 non-null  object\n",
      " 1   type          23967 non-null  object\n",
      " 2   registration  22419 non-null  object\n",
      " 3   operator      23963 non-null  object\n",
      " 4   fatalities    20029 non-null  object\n",
      " 5   location      23019 non-null  object\n",
      " 6   country       23967 non-null  object\n",
      " 7   cat           23967 non-null  object\n",
      " 8   year          23967 non-null  object\n",
      "dtypes: object(9)\n",
      "memory usage: 1.6+ MB\n"
     ]
    }
   ],
   "source": [
    "# This should have been first step but I just flexed the procedure for me\n",
    "df.info()"
   ]
  },
  {
   "cell_type": "code",
   "execution_count": 172,
   "id": "f8754873",
   "metadata": {},
   "outputs": [
    {
     "data": {
      "text/html": [
       "<div>\n",
       "<style scoped>\n",
       "    .dataframe tbody tr th:only-of-type {\n",
       "        vertical-align: middle;\n",
       "    }\n",
       "\n",
       "    .dataframe tbody tr th {\n",
       "        vertical-align: top;\n",
       "    }\n",
       "\n",
       "    .dataframe thead th {\n",
       "        text-align: right;\n",
       "    }\n",
       "</style>\n",
       "<table border=\"1\" class=\"dataframe\">\n",
       "  <thead>\n",
       "    <tr style=\"text-align: right;\">\n",
       "      <th></th>\n",
       "      <th>date</th>\n",
       "      <th>type</th>\n",
       "      <th>registration</th>\n",
       "      <th>operator</th>\n",
       "      <th>fatalities</th>\n",
       "      <th>location</th>\n",
       "      <th>country</th>\n",
       "      <th>cat</th>\n",
       "      <th>year</th>\n",
       "    </tr>\n",
       "  </thead>\n",
       "  <tbody>\n",
       "    <tr>\n",
       "      <th>count</th>\n",
       "      <td>23967</td>\n",
       "      <td>23967</td>\n",
       "      <td>22419</td>\n",
       "      <td>23963</td>\n",
       "      <td>20029</td>\n",
       "      <td>23019</td>\n",
       "      <td>23967</td>\n",
       "      <td>23967</td>\n",
       "      <td>23967</td>\n",
       "    </tr>\n",
       "    <tr>\n",
       "      <th>unique</th>\n",
       "      <td>15079</td>\n",
       "      <td>3201</td>\n",
       "      <td>21962</td>\n",
       "      <td>6017</td>\n",
       "      <td>369</td>\n",
       "      <td>14608</td>\n",
       "      <td>232</td>\n",
       "      <td>11</td>\n",
       "      <td>106</td>\n",
       "    </tr>\n",
       "    <tr>\n",
       "      <th>top</th>\n",
       "      <td>10-MAY-1940</td>\n",
       "      <td>Douglas C-47A (DC-3)</td>\n",
       "      <td>LZ-...</td>\n",
       "      <td>USAAF</td>\n",
       "      <td>0</td>\n",
       "      <td>unknown</td>\n",
       "      <td>USA</td>\n",
       "      <td>A1</td>\n",
       "      <td>1944</td>\n",
       "    </tr>\n",
       "    <tr>\n",
       "      <th>freq</th>\n",
       "      <td>171</td>\n",
       "      <td>1916</td>\n",
       "      <td>13</td>\n",
       "      <td>2604</td>\n",
       "      <td>10713</td>\n",
       "      <td>272</td>\n",
       "      <td>4377</td>\n",
       "      <td>17424</td>\n",
       "      <td>1505</td>\n",
       "    </tr>\n",
       "  </tbody>\n",
       "</table>\n",
       "</div>"
      ],
      "text/plain": [
       "               date                  type registration operator fatalities  \\\n",
       "count         23967                 23967        22419    23963      20029   \n",
       "unique        15079                  3201        21962     6017        369   \n",
       "top     10-MAY-1940  Douglas C-47A (DC-3)       LZ-...    USAAF          0   \n",
       "freq            171                  1916           13     2604      10713   \n",
       "\n",
       "       location country    cat   year  \n",
       "count     23019   23967  23967  23967  \n",
       "unique    14608     232     11    106  \n",
       "top     unknown     USA     A1   1944  \n",
       "freq        272    4377  17424   1505  "
      ]
     },
     "execution_count": 172,
     "metadata": {},
     "output_type": "execute_result"
    }
   ],
   "source": [
    "df.describe()"
   ]
  },
  {
   "cell_type": "markdown",
   "id": "eb930dd0",
   "metadata": {},
   "source": [
    "## Data Cleaning\n",
    "\n",
    "This section cleans the aviation accident data "
   ]
  },
  {
   "cell_type": "code",
   "execution_count": 173,
   "id": "acd14c21",
   "metadata": {},
   "outputs": [
    {
     "data": {
      "text/plain": [
       "date               0\n",
       "type               0\n",
       "registration    1548\n",
       "operator           4\n",
       "fatalities      3938\n",
       "location         948\n",
       "country            0\n",
       "cat                0\n",
       "year               0\n",
       "dtype: int64"
      ]
     },
     "execution_count": 173,
     "metadata": {},
     "output_type": "execute_result"
    }
   ],
   "source": [
    "# Identify missing values\n",
    "df.isnull().sum()"
   ]
  },
  {
   "cell_type": "code",
   "execution_count": 174,
   "id": "14391808",
   "metadata": {},
   "outputs": [],
   "source": [
    "# Change data types before I start dropping columns\n",
    "# Convert 'fatalities' to numeric\n",
    "df['fatalities'] = df['fatalities'].astype(str) #Object is string\n",
    "df['fatalities'] = pd.to_numeric(df['fatalities'], errors='coerce')"
   ]
  },
  {
   "cell_type": "code",
   "execution_count": 175,
   "id": "4b24a69c",
   "metadata": {},
   "outputs": [
    {
     "name": "stderr",
     "output_type": "stream",
     "text": [
      "C:\\Users\\HP\\AppData\\Local\\Temp\\ipykernel_1852\\1236572582.py:2: UserWarning: Could not infer format, so each element will be parsed individually, falling back to `dateutil`. To ensure parsing is consistent and as-expected, please specify a format.\n",
      "  df['date'] = pd.to_datetime(df['date'], errors='coerce')\n"
     ]
    }
   ],
   "source": [
    "# Convert 'date' to date_time\n",
    "df['date'] = pd.to_datetime(df['date'], errors='coerce')"
   ]
  },
  {
   "cell_type": "code",
   "execution_count": 176,
   "id": "48ec9839",
   "metadata": {},
   "outputs": [],
   "source": [
    "# Convert 'year' to numeric, removes the bad ones \n",
    "df['year'] = pd.to_numeric(df['year'], errors='coerce' )"
   ]
  },
  {
   "cell_type": "code",
   "execution_count": 177,
   "id": "ea33a6c1",
   "metadata": {},
   "outputs": [
    {
     "data": {
      "text/plain": [
       "date            datetime64[ns]\n",
       "type                    object\n",
       "registration            object\n",
       "operator                object\n",
       "fatalities             float64\n",
       "location                object\n",
       "country                 object\n",
       "cat                     object\n",
       "year                   float64\n",
       "dtype: object"
      ]
     },
     "execution_count": 177,
     "metadata": {},
     "output_type": "execute_result"
    }
   ],
   "source": [
    "# See what data types I have now\n",
    "df.dtypes"
   ]
  },
  {
   "cell_type": "markdown",
   "id": "6791a7d9",
   "metadata": {},
   "source": [
    "# Fixing the missing values now in the columns"
   ]
  },
  {
   "cell_type": "code",
   "execution_count": 178,
   "id": "5b7756b2",
   "metadata": {},
   "outputs": [],
   "source": [
    "# Fill missing values in 'Fatalities'\n",
    "df['fatalities'] = df['fatalities'].fillna(0)"
   ]
  },
  {
   "cell_type": "code",
   "execution_count": 179,
   "id": "146c990d",
   "metadata": {},
   "outputs": [
    {
     "data": {
      "text/plain": [
       "date             559\n",
       "type               0\n",
       "registration    1548\n",
       "operator           4\n",
       "fatalities         0\n",
       "location         948\n",
       "country            0\n",
       "cat                0\n",
       "year              61\n",
       "dtype: int64"
      ]
     },
     "execution_count": 179,
     "metadata": {},
     "output_type": "execute_result"
    }
   ],
   "source": [
    "# Check missing values again\n",
    "df.isnull().sum()"
   ]
  },
  {
   "cell_type": "code",
   "execution_count": 180,
   "id": "6bfbff2b",
   "metadata": {},
   "outputs": [],
   "source": [
    "# Fix remaining missing values \n",
    "# Fill missing 'date'\n",
    "df['date'] = df['date'].fillna('1962-01-01') # asssumes earliest time possible \n",
    "\n",
    "#Fill missing 'year'\n",
    "df['year'] = df['year'].fillna('1962') # it keeps it aligned with date fill - keeps it consistent\n",
    "\n",
    "# Fill 'registration with Unkown\n",
    "df['registration'] = df['registration'].fillna('Unknown')\n",
    "\n",
    "# Fill 'operator' with Unkown Operator\n",
    "df['operator'] = df['operator'].fillna('Uknown Operator')\n",
    "\n",
    "# Lastly fill 'location' with Unkown Location\n",
    "df['location'] = df['location'].fillna('Unkown Location')"
   ]
  },
  {
   "cell_type": "code",
   "execution_count": 181,
   "id": "50ec71e0",
   "metadata": {},
   "outputs": [
    {
     "data": {
      "text/plain": [
       "date            0\n",
       "type            0\n",
       "registration    0\n",
       "operator        0\n",
       "fatalities      0\n",
       "location        0\n",
       "country         0\n",
       "cat             0\n",
       "year            0\n",
       "dtype: int64"
      ]
     },
     "execution_count": 181,
     "metadata": {},
     "output_type": "execute_result"
    }
   ],
   "source": [
    "# Check 4 Missing Values Again\n",
    "df.isnull().sum()"
   ]
  },
  {
   "cell_type": "code",
   "execution_count": 182,
   "id": "fe0b606a",
   "metadata": {},
   "outputs": [
    {
     "data": {
      "text/plain": [
       "0        False\n",
       "1        False\n",
       "2        False\n",
       "3        False\n",
       "4        False\n",
       "         ...  \n",
       "23962    False\n",
       "23963    False\n",
       "23964    False\n",
       "23965    False\n",
       "23966    False\n",
       "Length: 23967, dtype: bool"
      ]
     },
     "execution_count": 182,
     "metadata": {},
     "output_type": "execute_result"
    }
   ],
   "source": [
    "df.duplicated()"
   ]
  },
  {
   "cell_type": "code",
   "execution_count": 183,
   "id": "cbf7268d",
   "metadata": {},
   "outputs": [
    {
     "data": {
      "text/plain": [
       "117"
      ]
     },
     "execution_count": 183,
     "metadata": {},
     "output_type": "execute_result"
    }
   ],
   "source": [
    "# Check for duplicate rows and count them\n",
    "duplicates = df.duplicated()\n",
    "duplicate_count = duplicates.sum()   # Counts the number of duplicates\n",
    "duplicate_count  # Print it"
   ]
  },
  {
   "cell_type": "code",
   "execution_count": 184,
   "id": "665b3a5a",
   "metadata": {},
   "outputs": [],
   "source": [
    "# Remove the duplicated rows\n",
    "df_no_duplicates = df.drop_duplicates()"
   ]
  },
  {
   "cell_type": "code",
   "execution_count": 185,
   "id": "bc19f7e2",
   "metadata": {},
   "outputs": [
    {
     "data": {
      "text/plain": [
       "23850"
      ]
     },
     "execution_count": 185,
     "metadata": {},
     "output_type": "execute_result"
    }
   ],
   "source": [
    "len(df_no_duplicates) # Shows lenght of rows  "
   ]
  },
  {
   "cell_type": "code",
   "execution_count": 186,
   "id": "eb27c694",
   "metadata": {},
   "outputs": [
    {
     "data": {
      "text/html": [
       "<div>\n",
       "<style scoped>\n",
       "    .dataframe tbody tr th:only-of-type {\n",
       "        vertical-align: middle;\n",
       "    }\n",
       "\n",
       "    .dataframe tbody tr th {\n",
       "        vertical-align: top;\n",
       "    }\n",
       "\n",
       "    .dataframe thead th {\n",
       "        text-align: right;\n",
       "    }\n",
       "</style>\n",
       "<table border=\"1\" class=\"dataframe\">\n",
       "  <thead>\n",
       "    <tr style=\"text-align: right;\">\n",
       "      <th></th>\n",
       "      <th>date</th>\n",
       "      <th>type</th>\n",
       "      <th>registration</th>\n",
       "      <th>operator</th>\n",
       "      <th>fatalities</th>\n",
       "      <th>location</th>\n",
       "      <th>country</th>\n",
       "      <th>cat</th>\n",
       "      <th>year</th>\n",
       "    </tr>\n",
       "  </thead>\n",
       "  <tbody>\n",
       "    <tr>\n",
       "      <th>0</th>\n",
       "      <td>1962-01-01</td>\n",
       "      <td>Antonov An-12B</td>\n",
       "      <td>T-1206</td>\n",
       "      <td>Indonesian AF</td>\n",
       "      <td>0.0</td>\n",
       "      <td>Unkown Location</td>\n",
       "      <td>Unknown country</td>\n",
       "      <td>U1</td>\n",
       "      <td>1962</td>\n",
       "    </tr>\n",
       "    <tr>\n",
       "      <th>1</th>\n",
       "      <td>1962-01-01</td>\n",
       "      <td>Antonov An-12B</td>\n",
       "      <td>T-1204</td>\n",
       "      <td>Indonesian AF</td>\n",
       "      <td>0.0</td>\n",
       "      <td>Unkown Location</td>\n",
       "      <td>Unknown country</td>\n",
       "      <td>U1</td>\n",
       "      <td>1962</td>\n",
       "    </tr>\n",
       "    <tr>\n",
       "      <th>2</th>\n",
       "      <td>1962-01-01</td>\n",
       "      <td>Antonov An-12B</td>\n",
       "      <td>T-1201</td>\n",
       "      <td>Indonesian AF</td>\n",
       "      <td>0.0</td>\n",
       "      <td>Unkown Location</td>\n",
       "      <td>Unknown country</td>\n",
       "      <td>U1</td>\n",
       "      <td>1962</td>\n",
       "    </tr>\n",
       "    <tr>\n",
       "      <th>3</th>\n",
       "      <td>1962-01-01</td>\n",
       "      <td>Antonov An-12BK</td>\n",
       "      <td>Unknown</td>\n",
       "      <td>Soviet AF</td>\n",
       "      <td>0.0</td>\n",
       "      <td>Tiksi Airport (IKS)</td>\n",
       "      <td>Russia</td>\n",
       "      <td>A1</td>\n",
       "      <td>1962</td>\n",
       "    </tr>\n",
       "    <tr>\n",
       "      <th>4</th>\n",
       "      <td>1962-01-01</td>\n",
       "      <td>Antonov An-12BP</td>\n",
       "      <td>CCCP-11815</td>\n",
       "      <td>Soviet AF</td>\n",
       "      <td>0.0</td>\n",
       "      <td>Massawa Airport ...</td>\n",
       "      <td>Eritrea</td>\n",
       "      <td>A1</td>\n",
       "      <td>1962</td>\n",
       "    </tr>\n",
       "  </tbody>\n",
       "</table>\n",
       "</div>"
      ],
      "text/plain": [
       "        date             type registration       operator  fatalities  \\\n",
       "0 1962-01-01   Antonov An-12B       T-1206  Indonesian AF         0.0   \n",
       "1 1962-01-01   Antonov An-12B       T-1204  Indonesian AF         0.0   \n",
       "2 1962-01-01   Antonov An-12B       T-1201  Indonesian AF         0.0   \n",
       "3 1962-01-01  Antonov An-12BK      Unknown      Soviet AF         0.0   \n",
       "4 1962-01-01  Antonov An-12BP   CCCP-11815      Soviet AF         0.0   \n",
       "\n",
       "              location          country cat  year  \n",
       "0      Unkown Location  Unknown country  U1  1962  \n",
       "1      Unkown Location  Unknown country  U1  1962  \n",
       "2      Unkown Location  Unknown country  U1  1962  \n",
       "3  Tiksi Airport (IKS)           Russia  A1  1962  \n",
       "4  Massawa Airport ...          Eritrea  A1  1962  "
      ]
     },
     "execution_count": 186,
     "metadata": {},
     "output_type": "execute_result"
    }
   ],
   "source": [
    "df_no_duplicates.head()"
   ]
  },
  {
   "cell_type": "markdown",
   "id": "35799536",
   "metadata": {},
   "source": [
    "## Removing Duplicates\n",
    "\n",
    "I have successfully removed 117 duplicate rows with `drop_duplicates()` to ensure each accident is counted once for accurate risk assessment."
   ]
  },
  {
   "cell_type": "code",
   "execution_count": 187,
   "id": "c9d3737b",
   "metadata": {},
   "outputs": [
    {
     "name": "stdout",
     "output_type": "stream",
     "text": [
      "Number of remaining duplicates: 0\n"
     ]
    }
   ],
   "source": [
    "# Check for any remaining duplicates in the cleaned DataFrame\n",
    "duplicates_check = df_no_duplicates.duplicated().sum()  # Counts remaining duplicates\n",
    "\n",
    "# Show the result\n",
    "print(f\"Number of remaining duplicates: {duplicates_check}\")"
   ]
  },
  {
   "cell_type": "markdown",
   "id": "ce4b7411",
   "metadata": {},
   "source": [
    "## Saving the Cleaned Data\n",
    "\n",
    "Dataset with 23,850 unique accidents saved to 'cleaned_data.csv' using `to_csv()` for further analysis and submission."
   ]
  },
  {
   "cell_type": "code",
   "execution_count": 188,
   "id": "dc8738e5",
   "metadata": {},
   "outputs": [],
   "source": [
    "# Save the cleaned data to csv\n",
    "df_no_duplicates.to_csv('cleaned-_data.csv', index=False)"
   ]
  },
  {
   "cell_type": "code",
   "execution_count": 189,
   "id": "746fcfb2",
   "metadata": {},
   "outputs": [
    {
     "data": {
      "text/html": [
       "<div>\n",
       "<style scoped>\n",
       "    .dataframe tbody tr th:only-of-type {\n",
       "        vertical-align: middle;\n",
       "    }\n",
       "\n",
       "    .dataframe tbody tr th {\n",
       "        vertical-align: top;\n",
       "    }\n",
       "\n",
       "    .dataframe thead th {\n",
       "        text-align: right;\n",
       "    }\n",
       "</style>\n",
       "<table border=\"1\" class=\"dataframe\">\n",
       "  <thead>\n",
       "    <tr style=\"text-align: right;\">\n",
       "      <th></th>\n",
       "      <th>date</th>\n",
       "      <th>type</th>\n",
       "      <th>registration</th>\n",
       "      <th>operator</th>\n",
       "      <th>fatalities</th>\n",
       "      <th>location</th>\n",
       "      <th>country</th>\n",
       "      <th>cat</th>\n",
       "      <th>year</th>\n",
       "    </tr>\n",
       "  </thead>\n",
       "  <tbody>\n",
       "    <tr>\n",
       "      <th>0</th>\n",
       "      <td>1962-01-01</td>\n",
       "      <td>Antonov An-12B</td>\n",
       "      <td>T-1206</td>\n",
       "      <td>Indonesian AF</td>\n",
       "      <td>0.0</td>\n",
       "      <td>Unkown Location</td>\n",
       "      <td>Unknown country</td>\n",
       "      <td>U1</td>\n",
       "      <td>1962</td>\n",
       "    </tr>\n",
       "    <tr>\n",
       "      <th>1</th>\n",
       "      <td>1962-01-01</td>\n",
       "      <td>Antonov An-12B</td>\n",
       "      <td>T-1204</td>\n",
       "      <td>Indonesian AF</td>\n",
       "      <td>0.0</td>\n",
       "      <td>Unkown Location</td>\n",
       "      <td>Unknown country</td>\n",
       "      <td>U1</td>\n",
       "      <td>1962</td>\n",
       "    </tr>\n",
       "    <tr>\n",
       "      <th>2</th>\n",
       "      <td>1962-01-01</td>\n",
       "      <td>Antonov An-12B</td>\n",
       "      <td>T-1201</td>\n",
       "      <td>Indonesian AF</td>\n",
       "      <td>0.0</td>\n",
       "      <td>Unkown Location</td>\n",
       "      <td>Unknown country</td>\n",
       "      <td>U1</td>\n",
       "      <td>1962</td>\n",
       "    </tr>\n",
       "    <tr>\n",
       "      <th>3</th>\n",
       "      <td>1962-01-01</td>\n",
       "      <td>Antonov An-12BK</td>\n",
       "      <td>Unknown</td>\n",
       "      <td>Soviet AF</td>\n",
       "      <td>0.0</td>\n",
       "      <td>Tiksi Airport (IKS)</td>\n",
       "      <td>Russia</td>\n",
       "      <td>A1</td>\n",
       "      <td>1962</td>\n",
       "    </tr>\n",
       "    <tr>\n",
       "      <th>4</th>\n",
       "      <td>1962-01-01</td>\n",
       "      <td>Antonov An-12BP</td>\n",
       "      <td>CCCP-11815</td>\n",
       "      <td>Soviet AF</td>\n",
       "      <td>0.0</td>\n",
       "      <td>Massawa Airport ...</td>\n",
       "      <td>Eritrea</td>\n",
       "      <td>A1</td>\n",
       "      <td>1962</td>\n",
       "    </tr>\n",
       "  </tbody>\n",
       "</table>\n",
       "</div>"
      ],
      "text/plain": [
       "        date             type registration       operator  fatalities  \\\n",
       "0 1962-01-01   Antonov An-12B       T-1206  Indonesian AF         0.0   \n",
       "1 1962-01-01   Antonov An-12B       T-1204  Indonesian AF         0.0   \n",
       "2 1962-01-01   Antonov An-12B       T-1201  Indonesian AF         0.0   \n",
       "3 1962-01-01  Antonov An-12BK      Unknown      Soviet AF         0.0   \n",
       "4 1962-01-01  Antonov An-12BP   CCCP-11815      Soviet AF         0.0   \n",
       "\n",
       "              location          country cat  year  \n",
       "0      Unkown Location  Unknown country  U1  1962  \n",
       "1      Unkown Location  Unknown country  U1  1962  \n",
       "2      Unkown Location  Unknown country  U1  1962  \n",
       "3  Tiksi Airport (IKS)           Russia  A1  1962  \n",
       "4  Massawa Airport ...          Eritrea  A1  1962  "
      ]
     },
     "execution_count": 189,
     "metadata": {},
     "output_type": "execute_result"
    }
   ],
   "source": [
    "# Checking if Data set is the one\n",
    "df_no_duplicates.head()"
   ]
  },
  {
   "cell_type": "code",
   "execution_count": 190,
   "id": "17b42cdd",
   "metadata": {},
   "outputs": [
    {
     "data": {
      "text/html": [
       "<div>\n",
       "<style scoped>\n",
       "    .dataframe tbody tr th:only-of-type {\n",
       "        vertical-align: middle;\n",
       "    }\n",
       "\n",
       "    .dataframe tbody tr th {\n",
       "        vertical-align: top;\n",
       "    }\n",
       "\n",
       "    .dataframe thead th {\n",
       "        text-align: right;\n",
       "    }\n",
       "</style>\n",
       "<table border=\"1\" class=\"dataframe\">\n",
       "  <thead>\n",
       "    <tr style=\"text-align: right;\">\n",
       "      <th></th>\n",
       "      <th>date</th>\n",
       "      <th>type</th>\n",
       "      <th>registration</th>\n",
       "      <th>operator</th>\n",
       "      <th>fatalities</th>\n",
       "      <th>location</th>\n",
       "      <th>country</th>\n",
       "      <th>cat</th>\n",
       "      <th>year</th>\n",
       "    </tr>\n",
       "  </thead>\n",
       "  <tbody>\n",
       "    <tr>\n",
       "      <th>23962</th>\n",
       "      <td>2023-05-11</td>\n",
       "      <td>Hawker 900XP</td>\n",
       "      <td>PK-LRU</td>\n",
       "      <td>Angkasa Super Services</td>\n",
       "      <td>0.0</td>\n",
       "      <td>Maleo Airport (MOH)</td>\n",
       "      <td>Indonesia</td>\n",
       "      <td>A2</td>\n",
       "      <td>2023.0</td>\n",
       "    </tr>\n",
       "    <tr>\n",
       "      <th>23963</th>\n",
       "      <td>2023-05-11</td>\n",
       "      <td>Cessna 208B Grand Caravan</td>\n",
       "      <td>PK-NGA</td>\n",
       "      <td>Nasional Global Aviasi</td>\n",
       "      <td>0.0</td>\n",
       "      <td>Fentheik Airstrip</td>\n",
       "      <td>Indonesia</td>\n",
       "      <td>A2</td>\n",
       "      <td>2023.0</td>\n",
       "    </tr>\n",
       "    <tr>\n",
       "      <th>23964</th>\n",
       "      <td>2023-05-12</td>\n",
       "      <td>Cessna 208B Grand Caravan</td>\n",
       "      <td>5X-RBR</td>\n",
       "      <td>Bar Aviation</td>\n",
       "      <td>0.0</td>\n",
       "      <td>Kampala-Kajjansi...</td>\n",
       "      <td>Uganda</td>\n",
       "      <td>A1</td>\n",
       "      <td>2023.0</td>\n",
       "    </tr>\n",
       "    <tr>\n",
       "      <th>23965</th>\n",
       "      <td>2023-05-14</td>\n",
       "      <td>Boeing 747-4R7F</td>\n",
       "      <td>LX-OCV</td>\n",
       "      <td>Cargolux</td>\n",
       "      <td>0.0</td>\n",
       "      <td>Luxembourg-Finde...</td>\n",
       "      <td>Luxembourg</td>\n",
       "      <td>A2</td>\n",
       "      <td>2023.0</td>\n",
       "    </tr>\n",
       "    <tr>\n",
       "      <th>23966</th>\n",
       "      <td>2023-05-15</td>\n",
       "      <td>Learjet 35A</td>\n",
       "      <td>D-CGFQ</td>\n",
       "      <td>GFD</td>\n",
       "      <td>2.0</td>\n",
       "      <td>Hohn Air Base</td>\n",
       "      <td>Germany</td>\n",
       "      <td>A1</td>\n",
       "      <td>2023.0</td>\n",
       "    </tr>\n",
       "  </tbody>\n",
       "</table>\n",
       "</div>"
      ],
      "text/plain": [
       "            date                       type registration  \\\n",
       "23962 2023-05-11               Hawker 900XP       PK-LRU   \n",
       "23963 2023-05-11  Cessna 208B Grand Caravan       PK-NGA   \n",
       "23964 2023-05-12  Cessna 208B Grand Caravan       5X-RBR   \n",
       "23965 2023-05-14            Boeing 747-4R7F       LX-OCV   \n",
       "23966 2023-05-15                Learjet 35A       D-CGFQ   \n",
       "\n",
       "                     operator  fatalities             location     country  \\\n",
       "23962  Angkasa Super Services         0.0  Maleo Airport (MOH)   Indonesia   \n",
       "23963  Nasional Global Aviasi         0.0    Fentheik Airstrip   Indonesia   \n",
       "23964            Bar Aviation         0.0  Kampala-Kajjansi...      Uganda   \n",
       "23965                Cargolux         0.0  Luxembourg-Finde...  Luxembourg   \n",
       "23966                     GFD         2.0        Hohn Air Base     Germany   \n",
       "\n",
       "      cat    year  \n",
       "23962  A2  2023.0  \n",
       "23963  A2  2023.0  \n",
       "23964  A1  2023.0  \n",
       "23965  A2  2023.0  \n",
       "23966  A1  2023.0  "
      ]
     },
     "execution_count": 190,
     "metadata": {},
     "output_type": "execute_result"
    }
   ],
   "source": [
    "# Double-checking the Data set\n",
    "df_no_duplicates.tail()"
   ]
  },
  {
   "cell_type": "markdown",
   "id": "5d93cc6d",
   "metadata": {},
   "source": [
    "## Tracking and Committing the Cleaned Data\n",
    "\n",
    "I'll add the saved ‘cleaned_data.csv’ to Git and commit it to record our cleaning process"
   ]
  },
  {
   "cell_type": "markdown",
   "id": "dcbcb0fb",
   "metadata": {},
   "source": [
    "## Exploratory Data Analysis (EDA)\n",
    "\n",
    "I’ll explore `df_no_duplicates` to get statistics such as accident counts and fatalities, to identify potential low-risk aircraft for our analysis. It will enable me to visualize on Tablue as well"
   ]
  },
  {
   "cell_type": "code",
   "execution_count": 191,
   "id": "0d5abc22",
   "metadata": {},
   "outputs": [
    {
     "data": {
      "text/html": [
       "<div>\n",
       "<style scoped>\n",
       "    .dataframe tbody tr th:only-of-type {\n",
       "        vertical-align: middle;\n",
       "    }\n",
       "\n",
       "    .dataframe tbody tr th {\n",
       "        vertical-align: top;\n",
       "    }\n",
       "\n",
       "    .dataframe thead th {\n",
       "        text-align: right;\n",
       "    }\n",
       "</style>\n",
       "<table border=\"1\" class=\"dataframe\">\n",
       "  <thead>\n",
       "    <tr style=\"text-align: right;\">\n",
       "      <th></th>\n",
       "      <th>date</th>\n",
       "      <th>fatalities</th>\n",
       "    </tr>\n",
       "  </thead>\n",
       "  <tbody>\n",
       "    <tr>\n",
       "      <th>count</th>\n",
       "      <td>23850</td>\n",
       "      <td>23850.000000</td>\n",
       "    </tr>\n",
       "    <tr>\n",
       "      <th>mean</th>\n",
       "      <td>1974-03-16 11:19:07.471698128</td>\n",
       "      <td>5.061593</td>\n",
       "    </tr>\n",
       "    <tr>\n",
       "      <th>min</th>\n",
       "      <td>1919-08-02 00:00:00</td>\n",
       "      <td>0.000000</td>\n",
       "    </tr>\n",
       "    <tr>\n",
       "      <th>25%</th>\n",
       "      <td>1949-06-19 18:00:00</td>\n",
       "      <td>0.000000</td>\n",
       "    </tr>\n",
       "    <tr>\n",
       "      <th>50%</th>\n",
       "      <td>1971-01-24 00:00:00</td>\n",
       "      <td>0.000000</td>\n",
       "    </tr>\n",
       "    <tr>\n",
       "      <th>75%</th>\n",
       "      <td>1995-04-27 00:00:00</td>\n",
       "      <td>3.000000</td>\n",
       "    </tr>\n",
       "    <tr>\n",
       "      <th>max</th>\n",
       "      <td>2023-05-15 00:00:00</td>\n",
       "      <td>520.000000</td>\n",
       "    </tr>\n",
       "    <tr>\n",
       "      <th>std</th>\n",
       "      <td>NaN</td>\n",
       "      <td>17.131843</td>\n",
       "    </tr>\n",
       "  </tbody>\n",
       "</table>\n",
       "</div>"
      ],
      "text/plain": [
       "                                date    fatalities\n",
       "count                          23850  23850.000000\n",
       "mean   1974-03-16 11:19:07.471698128      5.061593\n",
       "min              1919-08-02 00:00:00      0.000000\n",
       "25%              1949-06-19 18:00:00      0.000000\n",
       "50%              1971-01-24 00:00:00      0.000000\n",
       "75%              1995-04-27 00:00:00      3.000000\n",
       "max              2023-05-15 00:00:00    520.000000\n",
       "std                              NaN     17.131843"
      ]
     },
     "execution_count": 191,
     "metadata": {},
     "output_type": "execute_result"
    }
   ],
   "source": [
    "# Describe the cleaned data\n",
    "df_no_duplicates.describe()"
   ]
  },
  {
   "cell_type": "markdown",
   "id": "8d15ebe2",
   "metadata": {},
   "source": [
    "## Analyzing Accidents by Aircraft Type\n",
    "\n",
    "I’ll count accidents by aircraft type using `value_counts()` to identify which models are involved in fewer incidents."
   ]
  },
  {
   "cell_type": "code",
   "execution_count": 192,
   "id": "ca744460",
   "metadata": {},
   "outputs": [
    {
     "data": {
      "text/plain": [
       "type\n",
       "Douglas C-47A (DC-3)                 1916\n",
       "Douglas C-47 (DC-3)                   668\n",
       "Douglas C-47B (DC-3)                  592\n",
       "Curtiss C-46A                         564\n",
       "Antonov An-2R                         391\n",
       "                                     ... \n",
       "Boeing 737-3Z6                          1\n",
       "Boeing 747-230B (M)                     1\n",
       "Lockheed WV-3 Super Constellation       1\n",
       "Ilyushin Il-76MD Adnan-1                1\n",
       "Boeing 777-233LR                        1\n",
       "Name: count, Length: 3201, dtype: int64"
      ]
     },
     "execution_count": 192,
     "metadata": {},
     "output_type": "execute_result"
    }
   ],
   "source": [
    "df_no_duplicates['type'].value_counts()"
   ]
  },
  {
   "cell_type": "code",
   "execution_count": 193,
   "id": "e9fe5617",
   "metadata": {},
   "outputs": [
    {
     "data": {
      "text/plain": [
       "type\n",
       "Douglas C-47A (DC-3)         1916\n",
       "Douglas C-47 (DC-3)           668\n",
       "Douglas C-47B (DC-3)          592\n",
       "Curtiss C-46A                 564\n",
       "Antonov An-2R                 391\n",
       "Junkers Ju-52/3m              374\n",
       "Curtiss C-46D                 344\n",
       "Douglas Dakota III (DC-3)     262\n",
       "DHC-6 Twin Otter 300          258\n",
       "Cessna 208B Grand Caravan     247\n",
       "Name: count, dtype: int64"
      ]
     },
     "execution_count": 193,
     "metadata": {},
     "output_type": "execute_result"
    }
   ],
   "source": [
    "# Show the top 10 Aircraft types by accident \n",
    "type_counts = df_no_duplicates['type'].value_counts()\n",
    "type_counts.head(10)"
   ]
  },
  {
   "cell_type": "code",
   "execution_count": 194,
   "id": "19fbd374",
   "metadata": {},
   "outputs": [
    {
     "data": {
      "text/plain": [
       "type\n",
       "Boeing 737-3Z6                       1\n",
       "Boeing 747-230B (M)                  1\n",
       "Lockheed WV-3 Super Constellation    1\n",
       "Ilyushin Il-76MD Adnan-1             1\n",
       "Boeing 777-233LR                     1\n",
       "Name: count, dtype: int64"
      ]
     },
     "execution_count": 194,
     "metadata": {},
     "output_type": "execute_result"
    }
   ],
   "source": [
    "type_counts.tail()"
   ]
  },
  {
   "cell_type": "markdown",
   "id": "da7fea25",
   "metadata": {},
   "source": [
    "## Selecting Low-Risk Aircraft Candidates\n",
    "\n",
    "I’ll summarize the aircraft types with the fewest accidents and prepare to select three low-risk models for our analysis purposes"
   ]
  },
  {
   "cell_type": "code",
   "execution_count": 195,
   "id": "b157fbd5",
   "metadata": {},
   "outputs": [],
   "source": [
    "# Get all aircraft types with 1 or few accidents. Less than 5 in this case\n",
    "low_risk_types = df_no_duplicates['type'].value_counts()[df_no_duplicates['type'].value_counts() <= 5]\n"
   ]
  },
  {
   "cell_type": "code",
   "execution_count": 196,
   "id": "d0f3bcd8",
   "metadata": {},
   "outputs": [
    {
     "data": {
      "text/plain": [
       "type\n",
       "Rockwell 1121B Jet Commander         5\n",
       "Lockheed RB-69A Neptune              5\n",
       "Shorts 330-100                       5\n",
       "Lockheed AC-130A Spectre             5\n",
       "DHC-8-103                            5\n",
       "                                    ..\n",
       "Boeing 737-3Z6                       1\n",
       "Boeing 747-230B (M)                  1\n",
       "Lockheed WV-3 Super Constellation    1\n",
       "Ilyushin Il-76MD Adnan-1             1\n",
       "Boeing 777-233LR                     1\n",
       "Name: count, Length: 2559, dtype: int64"
      ]
     },
     "execution_count": 196,
     "metadata": {},
     "output_type": "execute_result"
    }
   ],
   "source": [
    "# Show the few accidents (low_risk_types)\n",
    "low_risk_types"
   ]
  },
  {
   "cell_type": "code",
   "execution_count": 197,
   "id": "9c5902ae",
   "metadata": {},
   "outputs": [],
   "source": [
    "# Get aircraft types with exactly 1 accident (lowest risk)\n",
    "one_accident_types = df_no_duplicates['type'].value_counts()[df_no_duplicates['type'].value_counts() == 1]"
   ]
  },
  {
   "cell_type": "code",
   "execution_count": 198,
   "id": "6d526e3e",
   "metadata": {},
   "outputs": [
    {
     "data": {
      "text/plain": [
       "type\n",
       "Vought-Sikorsky VS-44                1\n",
       "Ilyushin Il-76MD Simorgh             1\n",
       "Savoia-Marchetti SM-75RT             1\n",
       "Consolidated 28-2 Catalina           1\n",
       "NAMC YS-11A-600                      1\n",
       "                                    ..\n",
       "Boeing 737-3Z6                       1\n",
       "Boeing 747-230B (M)                  1\n",
       "Lockheed WV-3 Super Constellation    1\n",
       "Ilyushin Il-76MD Adnan-1             1\n",
       "Boeing 777-233LR                     1\n",
       "Name: count, Length: 1463, dtype: int64"
      ]
     },
     "execution_count": 198,
     "metadata": {},
     "output_type": "execute_result"
    }
   ],
   "source": [
    "# Show the list of types with 1 accident\n",
    "one_accident_types"
   ]
  },
  {
   "cell_type": "markdown",
   "id": "847f4569",
   "metadata": {},
   "source": [
    "## Pick 3 at least to recommend\n",
    "I can pick any of the above so I am going with Vought-Sikorsky VS-44, Ilyushin Il-76MD Simorgh, Savoia-Marchetti SM-75RT/ \n",
    "I want to avoid the Boeing Variants. Total Unique stuff, my thoughts"
   ]
  },
  {
   "cell_type": "code",
   "execution_count": 199,
   "id": "55f7cea5",
   "metadata": {},
   "outputs": [
    {
     "name": "stdout",
     "output_type": "stream",
     "text": [
      "Recommended Low-Risk Aircraft: ['Vought-Sikorsky VS-44', 'Ilyushin Il-76MD Simorgh', 'Savoia-Marchetti SM-75RT']\n"
     ]
    }
   ],
   "source": [
    "recommended_types = [\"Vought-Sikorsky VS-44\", \"Ilyushin Il-76MD Simorgh\", \"Savoia-Marchetti SM-75RT\"]\n",
    "print(\"Recommended Low-Risk Aircraft:\", recommended_types)"
   ]
  },
  {
   "cell_type": "markdown",
   "id": "2252119a",
   "metadata": {},
   "source": [
    "## Final Recommendations\n",
    "\n",
    "Based on our EDA, we recommend the following three low-risk aircraft types, each with exactly 1 accident in the dataset of 23,850 unique incidents:\n",
    "\n",
    "1. **Vought-Sikorsky VS-44**: A rare seaplane with a single recorded accident, suitable for niche operations.\n",
    "2. **Ilyushin Il-76MD Simorgh**: A military transport variant with 1 accident, ideal for specialized cargo needs.\n",
    "3. **Savoia-Marchetti SM-75RT**: A historical Italian transport with 1 accident, viable for heritage or light use.\n",
    "\n"
   ]
  },
  {
   "cell_type": "markdown",
   "id": "fddb504a",
   "metadata": {},
   "source": [
    "## Outlier Detection and Visualization\n",
    "\n",
    "I wanted to clean and get recommendations first so that I could check for outliers in ‘fatalities’ using a box plot and add a line plot for accident trends over time to validate my data to support recommendations."
   ]
  },
  {
   "cell_type": "code",
   "execution_count": 200,
   "id": "0227a6c9",
   "metadata": {},
   "outputs": [],
   "source": [
    "# Import libraries\n",
    "import seaborn as sns\n",
    "import matplotlib.pyplot as plt"
   ]
  },
  {
   "cell_type": "code",
   "execution_count": 201,
   "id": "6eaeba52",
   "metadata": {},
   "outputs": [],
   "source": [
    "# Get top 5 aircraft types by accident count\n",
    "top_types = df_no_duplicates['type'].value_counts().head(5)"
   ]
  },
  {
   "cell_type": "code",
   "execution_count": 202,
   "id": "e630e9dc",
   "metadata": {},
   "outputs": [
    {
     "data": {
      "image/png": "[encoded data removed]",
      "text/plain": [
       "<Figure size 800x500 with 1 Axes>"
      ]
     },
     "metadata": {},
     "output_type": "display_data"
    }
   ],
   "source": [
    "#Create a basic Seaborn bar plot\n",
    "plt.figure(figsize=(8, 5))  # Set a simple size\n",
    "sns.barplot(x=top_types.index, y=top_types.values) # To add colors\n",
    "plt.xlabel(\"Aircraft Type\")\n",
    "plt.ylabel(\"Number of Accidents\")\n",
    "plt.title(\"Top 5 Aircraft by Accident Count\")\n",
    "plt.xticks(rotation=45)  # Rotate labels for readability\n",
    "plt.show()"
   ]
  },
  {
   "cell_type": "markdown",
   "id": "89b3f9c7",
   "metadata": {},
   "source": [
    "## Additional Visualization and Conclusion\n",
    "\n",
    "I’ll add a simple line plot of accidents over time to complement our bar chart to achieve complete visualization. Then, I’ll conclude with a summary linking our analysis to the recommendations."
   ]
  },
  {
   "cell_type": "code",
   "execution_count": 203,
   "id": "f7ae215b",
   "metadata": {},
   "outputs": [
    {
     "data": {
      "image/png": "[encoded data removed]",
      "text/plain": [
       "<Figure size 1000x600 with 1 Axes>"
      ]
     },
     "metadata": {},
     "output_type": "display_data"
    }
   ],
   "source": [
    "# Import library\n",
    "import matplotlib.pyplot as plt\n",
    "\n",
    "# Clean 'year' column safely and reassign\n",
    "df_no_duplicates = df_no_duplicates.copy()  # Create a clean copy to avoid warnings\n",
    "df_no_duplicates.loc[:, 'year'] = pd.to_numeric(df_no_duplicates['year'], errors='coerce')  # Force numeric, NaN for bad values\n",
    "df_cleaned = df_no_duplicates.dropna(subset=['year'])  # Remove rows with NaN years\n",
    "\n",
    "# Simple line plot\n",
    "yearly_counts = df_cleaned['year'].value_counts()\n",
    "plt.figure(figsize=(10, 6))\n",
    "plt.plot(yearly_counts.index, yearly_counts.values)\n",
    "plt.xlabel(\"Year\")\n",
    "plt.ylabel(\"Number of Accidents\")\n",
    "plt.title(\"Accidents Over Time\")\n",
    "plt.show()\n"
   ]
  },
  {
   "cell_type": "code",
   "execution_count": 204,
   "id": "fe4ea22f",
   "metadata": {},
   "outputs": [
    {
     "data": {
      "image/png": "[encoded data removed]",
      "text/plain": [
       "<Figure size 1000x600 with 1 Axes>"
      ]
     },
     "metadata": {},
     "output_type": "display_data"
    }
   ],
   "source": [
    "# Create a box plot for fatalities (limit to top types for clarity)\n",
    "top_types = df_no_duplicates['type'].value_counts().head(5).index\n",
    "plt.figure(figsize=(10, 6))\n",
    "sns.boxplot(x='type', y='fatalities', data=df_no_duplicates[df_no_duplicates['type'].isin(top_types)])\n",
    "plt.xlabel(\"Aircraft Type\")\n",
    "plt.ylabel(\"Fatalities\")\n",
    "plt.title(\"Fatalities Distribution for Top 5 Aircraft Types\")\n",
    "plt.xticks(rotation=45)\n",
    "plt.show()"
   ]
  },
  {
   "cell_type": "code",
   "execution_count": 205,
   "id": "4a17c164",
   "metadata": {},
   "outputs": [
    {
     "data": {
      "image/png": "[encoded data removed]",
      "text/plain": [
       "<Figure size 1000x600 with 1 Axes>"
      ]
     },
     "metadata": {},
     "output_type": "display_data"
    }
   ],
   "source": [
    "# Create a scatter plot for accidents by year and fatalities\n",
    "plt.figure(figsize=(10, 6))\n",
    "plt.scatter(df_no_duplicates['year'], df_no_duplicates['fatalities'], alpha=0.5)\n",
    "plt.xlabel(\"Year\")\n",
    "plt.ylabel(\"Fatalities\")\n",
    "plt.title(\"Accidents by Year and Fatalities\")\n",
    "plt.show()"
   ]
  },
  {
   "cell_type": "code",
   "execution_count": 206,
   "id": "8aae5d4a",
   "metadata": {},
   "outputs": [
    {
     "data": {
      "image/png": "[encoded data removed]",
      "text/plain": [
       "<Figure size 800x500 with 1 Axes>"
      ]
     },
     "metadata": {},
     "output_type": "display_data"
    }
   ],
   "source": [
    "# Create a count plot for accidents by country (limit to top 5 for clarity)\n",
    "top_countries = df_no_duplicates['country'].value_counts().head(5)\n",
    "plt.figure(figsize=(8, 5))\n",
    "sns.countplot(x='country', data=df_no_duplicates[df_no_duplicates['country'].isin(top_countries.index)])\n",
    "plt.xlabel(\"Country\")\n",
    "plt.ylabel(\"Number of Accidents\")\n",
    "plt.title(\"Top 5 Countries by Accident Count\")\n",
    "plt.xticks(rotation=45)\n",
    "plt.show()"
   ]
  },
  {
   "cell_type": "markdown",
   "id": "dc2a271a",
   "metadata": {},
   "source": [
    "## Final Commit \n",
    "\n",
    "Almost done. Need to save this progress though"
   ]
  }
 ],
 "metadata": {
  "kernelspec": {
   "display_name": "base",
   "language": "python",
   "name": "python3"
  },
  "language_info": {
   "codemirror_mode": {
    "name": "ipython",
    "version": 3
   },
   "file_extension": ".py",
   "mimetype": "text/x-python",
   "name": "python",
   "nbconvert_exporter": "python",
   "pygments_lexer": "ipython3",
   "version": "3.11.7"
  }
 },
 "nbformat": 4,
 "nbformat_minor": 5
}
